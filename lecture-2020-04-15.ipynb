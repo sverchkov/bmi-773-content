{
 "cells": [
  {
   "cell_type": "markdown",
   "metadata": {},
   "source": [
    "# Interpretability of Machine Learning Models\n",
    "\n",
    "**BMI 773 Clinical Research Informatics**\n",
    "\n",
    "*Yuriy Sverchkov*\n",
    "\n",
    "*April 15, 2020*"
   ]
  },
  {
   "cell_type": "markdown",
   "metadata": {},
   "source": [
    "## Readings\n",
    "\n",
    "* Z. C. Lipton, “The mythos of model interpretability,” Commun. ACM, vol. 61, no. 10, pp. 36–43, Sep. 2018, [doi: 10.1145/3233231](https://doi.org/10.1145/3233231). [arXiv](https://arxiv.org/pdf/1606.03490v2)\n"
   ]
  },
  {
   "cell_type": "markdown",
   "metadata": {},
   "source": [
    "### To review (potential readings)\n",
    "\n",
    "* http://philsci-archive.pitt.edu/16734/1/preprint.pdf"
   ]
  },
  {
   "cell_type": "markdown",
   "metadata": {},
   "source": [
    "## Interpretability\n",
    "\n",
    "(definition?)"
   ]
  },
  {
   "cell_type": "markdown",
   "metadata": {},
   "source": [
    "* Model-agnostic vs Model-based\n",
    "* Global vs Local\n",
    "* Feature importances - Matt Churpek mentioned\n",
    "* Feature influences\n",
    "* Models that are interpretable by design\n",
    "    * Logistic regression\n",
    "    * Decision trees\n",
    "    * Rule sets\n",
    "    * Additive model (Caruana)\n",
    "* Model-based post-hoc interpretation\n",
    "    * GradCAM and variants - Matt Churpek mentioned\n",
    "    * Attention?"
   ]
  },
  {
   "cell_type": "markdown",
   "metadata": {},
   "source": [
    "### Interpreting Logistic Regression Coefficients\n",
    "\n",
    "..."
   ]
  }
 ],
 "metadata": {
  "kernelspec": {
   "display_name": "Python 3",
   "language": "python",
   "name": "python3"
  },
  "language_info": {
   "codemirror_mode": {
    "name": "ipython",
    "version": 3
   },
   "file_extension": ".py",
   "mimetype": "text/x-python",
   "name": "python",
   "nbconvert_exporter": "python",
   "pygments_lexer": "ipython3",
   "version": "3.8.2-final"
  }
 },
 "nbformat": 4,
 "nbformat_minor": 4
}