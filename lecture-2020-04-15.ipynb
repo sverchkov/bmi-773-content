{
 "cells": [
  {
   "cell_type": "markdown",
   "metadata": {},
   "source": [
    "# Interpretability, Fairness, Robustness\n",
    "\n",
    "**BMI 773 Clinical Research Informatics**\n",
    "\n",
    "*Yuriy Sverchkov*\n",
    "\n",
    "*April 15, 2020*"
   ]
  },
  {
   "cell_type": "markdown",
   "metadata": {},
   "source": [
    "## Lecture goals\n",
    "\n",
    "* TODO"
   ]
  },
  {
   "cell_type": "markdown",
   "metadata": {},
   "source": [
    "## Readings\n",
    "\n",
    "### Interpretability\n",
    "\n",
    "* TODO\n",
    "\n",
    "### Fairness\n",
    "\n",
    "* [A Gentle Introduction to the Discussion on Algorithmic Fairness](https://towardsdatascience.com/a-gentle-introduction-to-the-discussion-on-algorithmic-fairness-740bbb469b6)\n",
    "\n",
    "### Robustness\n",
    "\n",
    "* TODO"
   ]
  },
  {
   "cell_type": "markdown",
   "metadata": {},
   "source": [
    "## Interpretability\n",
    "\n",
    "(definition?)"
   ]
  },
  {
   "cell_type": "markdown",
   "metadata": {},
   "source": [
    "* Model-agnostic vs Model-based\n",
    "* Global vs Local\n",
    "* Feature importances - Matt Churpek mentioned\n",
    "* Feature influences\n",
    "* Models that are interpretable by design\n",
    "    * Logistic regression\n",
    "    * Decision trees\n",
    "    * Rule sets\n",
    "    * Additive model (Caruana)\n",
    "* Model-based post-hoc interpretation\n",
    "    * GradCAM and variants - Matt Churpek mentioned\n",
    "    * Attention?"
   ]
  },
  {
   "cell_type": "markdown",
   "metadata": {},
   "source": [
    "### Interpreting Logistic Regression Coefficients\n",
    "\n",
    "..."
   ]
  },
  {
   "cell_type": "markdown",
   "metadata": {},
   "source": [
    "## Fairness\n",
    "\n",
    "(definition?)"
   ]
  },
  {
   "cell_type": "markdown",
   "metadata": {},
   "source": [
    "* Why omitting the sensitive variables isn't enough\n",
    "* Approaches"
   ]
  },
  {
   "cell_type": "markdown",
   "metadata": {},
   "source": [
    "## Robustness\n",
    "\n",
    "(definition?)"
   ]
  }
 ],
 "metadata": {
  "kernelspec": {
   "display_name": "Python 3",
   "language": "python",
   "name": "python3"
  },
  "language_info": {
   "codemirror_mode": {
    "name": "ipython",
    "version": 3
   },
   "file_extension": ".py",
   "mimetype": "text/x-python",
   "name": "python",
   "nbconvert_exporter": "python",
   "pygments_lexer": "ipython3",
   "version": "3.8.2-final"
  }
 },
 "nbformat": 4,
 "nbformat_minor": 4
}