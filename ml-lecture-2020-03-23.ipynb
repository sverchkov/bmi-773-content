{
 "cells": [
  {
   "cell_type": "markdown",
   "metadata": {
    "slideshow": {
     "slide_type": "slide"
    }
   },
   "source": [
    "# Machine Learning (part 1)\n",
    "\n",
    "**BMI 773 Clinical Research Informatics**\n",
    "\n",
    "*Yuriy Sverchkov*\n",
    "\n",
    "*March 23, 2020*"
   ]
  },
  {
   "cell_type": "markdown",
   "metadata": {
    "slideshow": {
     "slide_type": "subslide"
    }
   },
   "source": [
    "## Lecture Goals\n",
    "\n",
    "* Define Machine Learning\n",
    "* Define the supervised learning tasks\n",
    "* Consider how to represent instances as fixed-length feature vectors\n",
    "* Understand concepts\n",
    "  * instance (example)\n",
    "  * feature (attribute)\n",
    "  * model (hypothesis)\n",
    "  * training set\n",
    "  * test set\n",
    "  * supervised learning\n",
    "  * classification\n",
    "  * regression\n",
    "* Describe logistic regression from a machine learning perspective\n",
    "* Describe how machine learning methods are trained and evaluated"
   ]
  },
  {
   "cell_type": "code",
   "execution_count": 4,
   "metadata": {
    "slideshow": {
     "slide_type": "skip"
    }
   },
   "outputs": [],
   "source": [
    "# Initialization code\n",
    "# Imports:\n",
    "import pandas as pd\n",
    "import numpy as np\n",
    "import matplotlib\n",
    "import matplotlib.pyplot as plt\n",
    "from scipy.special import expit\n",
    "from sklearn.datasets import load_breast_cancer\n",
    "from sklearn.linear_model import LogisticRegression\n",
    "from sklearn.metrics import roc_curve, auc\n",
    "from sklearn.model_selection import train_test_split\n",
    "\n",
    "# Some Matplotlib configuration\n",
    "matplotlib.rcParams['text.usetex'] = True\n",
    "#matplotlib.rcParams['backend'] = 'agg'\n",
    "#%matplotlib ipympl\n",
    "# Random seed:\n",
    "np.random.seed(48748)\n",
    "\n",
    "# Load Breast Cancer Data\n",
    "data = load_breast_cancer()"
   ]
  },
  {
   "cell_type": "markdown",
   "metadata": {
    "slideshow": {
     "slide_type": "slide"
    }
   },
   "source": [
    "## What is Machine Learning?\n",
    "\n",
    "> The study of algorithms that improve their __performance__ at some __task__ with __experience__.\n",
    "\n",
    "*(paraphrased from Mitchell, T. (1997) Machine Learning)*\n"
   ]
  },
  {
   "cell_type": "markdown",
   "metadata": {
    "slideshow": {
     "slide_type": "slide"
    }
   },
   "source": [
    "### Example: breast cancer diagnosis\n",
    "\n",
    "![UCI Breast Cancer Wisconsin Sample Image](images/uci-breast-cancer.jpg)\n",
    "\n",
    "* __Task:__ given fine needle aspirate images of biopsy samples, classify samples as benign vs. malignant\n",
    "* __Performance:__ minimize misclassifications\n",
    "* __Experience:__ samples known to be benign and samples known to be malignant"
   ]
  },
  {
   "cell_type": "markdown",
   "metadata": {
    "slideshow": {
     "slide_type": "slide"
    }
   },
   "source": [
    "## Supervised Learning\n",
    "\n",
    "* The supervised learning **task** is usually to learn a model that estimates the value of a *target* attribute given other attributes (*features*) of a sample (*instance*).\n",
    "  * Classification - the target is *categorical* and takes one value out of a finite set\n",
    "  * Regression - the target is a number that can take values in some continuous range"
   ]
  },
  {
   "cell_type": "markdown",
   "metadata": {
    "slideshow": {
     "slide_type": "fragment"
    }
   },
   "source": [
    "* In supervised learning, the **experience** the algorithm receives is samples with known target values.\n",
    "\n",
    "Other types of learning could be\n",
    "\n",
    "* Unsupervised - the algorithm sees samples without known target values\n",
    "* Semi-supervised - the algorithm sees a mix of samples with and without target values\n",
    "* Active learning - the algorithm chooses which samples to observe"
   ]
  },
  {
   "cell_type": "markdown",
   "metadata": {
    "slideshow": {
     "slide_type": "subslide"
    }
   },
   "source": [
    "### Example: breast cancer diagnosis\n",
    "\n",
    "Based on data from the Breast Cancer Wisconsin UCI dataset (O.L. Mangasarian, W.N. Street and W.H. Wolberg. Operations Research 1995)\n",
    "\n",
    "* __Features:__ properties of images of cell nuclei\n",
    "> Features are computed from a digitized image of a fine needle aspirate (FNA) of a breast mass. They describe characteristics of the cell nuclei present in the image.\n",
    "* __Target:__ *malignant* or *benign*\n",
    "  * This is a *classification* task\n"
   ]
  },
  {
   "cell_type": "markdown",
   "metadata": {
    "slideshow": {
     "slide_type": "fragment"
    }
   },
   "source": [
    "| Features: | radius | texture | perimiter | area | ... | | target class |\n",
    "|------------|--------|---------|-----------|------|-----|----|----|\n",
    "|$\\mathbf x^{(1)} = \\langle$ | 17.99, | 10.38, | 122.8, | 1001. | $\\ldots$ | $\\rangle$ | $y^{(1)}=$ Malignant |\n",
    "|$\\mathbf x^{(2)} = \\langle$ | 20.57, | 17.77, | 132.9, | 1326. | $\\ldots$ | $\\rangle$ | $y^{(2)}=$ Malignant |\n",
    "|$\\mathbf x^{(3)} = \\langle$ | 13.08, | 15.71, | 85.63, | 520. | $\\ldots$ | $\\rangle$ | $y^{(3)}=$ Benign |\n",
    "| $\\vdots$ | | | | | | | $\\vdots$ |\n",
    "\n",
    "This is a **fixed-length vector** representation for the features."
   ]
  },
  {
   "cell_type": "markdown",
   "metadata": {
    "slideshow": {
     "slide_type": "slide"
    }
   },
   "source": [
    "### Supervised learning as function learning\n",
    "\n",
    "In supervised learning our *task* is to learn a *model* that estimates the value of a *target* from *features* for each sample.\n",
    "Mathematically, the model is expressed as a *function*:\n",
    "\n",
    "$$ \\overbrace{f}^\\text{model}( \\underbrace{\\mathbf{x}}_{\\text{features}} ) = \\overbrace{\\hat y}^{\\text{estimate of target}} $$"
   ]
  },
  {
   "cell_type": "markdown",
   "metadata": {
    "slideshow": {
     "slide_type": "fragment"
    }
   },
   "source": [
    "* Our task is to learn a function $f$ that yields accurate estimates $\\hat y$.\n",
    "* Which function $f$ *minimizes* the mismatch between $y$ and $\\hat y$?\n",
    "* The mismatch is often expressed as a **cost function** $\\textrm{cost}(y, \\hat y)$."
   ]
  },
  {
   "cell_type": "markdown",
   "metadata": {
    "slideshow": {
     "slide_type": "slide"
    }
   },
   "source": [
    "## Logistic Regression\n",
    "\n",
    "* Logistic regression is a model used in binary classification\n",
    "* In binary classification there are two possible values for the target variable $y$, which we can assign to the values 0 and 1"
   ]
  },
  {
   "cell_type": "markdown",
   "metadata": {
    "slideshow": {
     "slide_type": "fragment"
    }
   },
   "source": [
    "* The model then takes the form\n",
    "\n",
    "$$ \\begin{align}\n",
    "\\text{Probability}(y=1) &= f_{LR}(\\mathbf x, \\boldsymbol \\beta) \\\\\n",
    "&= \\mathrm{expit}(\\beta_0 + \\beta_1 x_1 + \\beta_2 x_2 + \\ldots + \\beta_d x_d) \\\\\n",
    "&= \\frac{1}{1 + e^{-(\\beta_0 + \\beta_1 x_1 + \\beta_2 x_2 + \\ldots + \\beta_d x_d )}}\n",
    "\\end{align} $$\n",
    "\n",
    "* The learning task consists of finding the right **parameters** (in this case also *weights*) $\\beta_0, \\beta_1, \\beta_2, \\ldots, \\beta_d$"
   ]
  },
  {
   "cell_type": "markdown",
   "metadata": {
    "slideshow": {
     "slide_type": "slide"
    }
   },
   "source": [
    "### The expit function\n",
    "\n",
    "* The __expit__ function is often called a __sigmoid__ function in machine learning.\n",
    "* Defined as $$\\mathrm{expit}(x) = \\frac{1}{1 + e^{-x}}$$\n",
    "* S-shaped: 'squashes' values from its unbounded domain $(-\\infty, +\\infty)$ to a range between 0 and 1."
   ]
  },
  {
   "cell_type": "code",
   "execution_count": 5,
   "metadata": {
    "tags": [
     "to_remove"
    ]
   },
   "outputs": [
    {
     "data": {
      "image/png": "[encoded data removed]",
      "text/plain": [
       "<Figure size 432x288 with 1 Axes>"
      ]
     },
     "metadata": {
      "needs_background": "light"
     },
     "output_type": "display_data"
    }
   ],
   "source": [
    "# Plot expit\n",
    "x = np.linspace(-5,5,50)\n",
    "y = expit(x)\n",
    "\n",
    "plt.plot(x, y)\n",
    "plt.xlabel('x')\n",
    "plt.ylabel('expit(x)')\n",
    "plt.show()\n",
    "\n",
    "# point out the parameters\n",
    "# how to learn -- what is the cost function?\n",
    "# run on breast cancer data\n"
   ]
  },
  {
   "cell_type": "markdown",
   "metadata": {
    "slideshow": {
     "slide_type": "slide"
    }
   },
   "source": [
    "### Cost function\n",
    "\n",
    "The cost function used in learning a logistic regression model is called the **cross-entropy loss**, specifically:\n",
    "\n",
    "$$ \\mathrm{cost}(y, \\hat y) =\n",
    " \\begin{cases}\n",
    "  -\\log( \\hat y ) & \\text{ if }y=1 \\\\\n",
    "  -\\log( 1-\\hat y ) & \\text{ if }y=0\n",
    " \\end{cases} $$"
   ]
  },
  {
   "cell_type": "code",
   "execution_count": 26,
   "metadata": {
    "slideshow": {
     "slide_type": "fragment"
    },
    "tags": [
     "to_remove"
    ]
   },
   "outputs": [
    {
     "data": {
      "image/png": "[encoded data removed]",
      "text/plain": [
       "<Figure size 432x288 with 1 Axes>"
      ]
     },
     "metadata": {
      "needs_background": "light"
     },
     "output_type": "display_data"
    }
   ],
   "source": [
    "# Plot loss function for y=1, y=0\n",
    "x1 = np.linspace(1, 0, 50, endpoint=False)\n",
    "y1 = -np.log(x1)\n",
    "x0 = 1-x1\n",
    "y0 = -np.log(1-x0)\n",
    "\n",
    "ax = plt.subplot(1,1,1)\n",
    "ax.plot(x1, y1, label=r'$y=1$')\n",
    "ax.plot(x0, y0, label=r'$y=0$')\n",
    "ax.plot([0,0], [0,max(y0)], linestyle ='--')\n",
    "ax.plot([1,1], [0,max(y0)], linestyle ='--')\n",
    "ax.set_xlabel(r'$\\hat y$')\n",
    "ax.set_ylabel(r'$\\mathrm{cost}(y, \\hat y)$')\n",
    "ax.legend(loc='best')\n",
    "\n",
    "plt.show()\n"
   ]
  },
  {
   "cell_type": "markdown",
   "metadata": {
    "slideshow": {
     "slide_type": "slide"
    }
   },
   "source": [
    "### Learning/training/fitting\n",
    "\n",
    "*Learning the LR model - finding the right parameter values - is also called *fitting* (statistics) or *training* (ML).\n",
    "\n",
    "To fit a logistic regression model to a dataset $(\\mathbf x^{(1)}, y^{(1)}), \\ldots, (\\mathbf x^{(n)}, y^{(n)})$, we find the values of $\\beta$ that minimize the sum of the sample-wise costs:\n",
    "\n",
    "$$ \\hat{\\boldsymbol \\beta} = \\underset{\\boldsymbol \\beta}{\\arg \\min} \\sum_{i=1}^n \\mathrm{cost}(y^{(i)}, f_{LR}(\\boldsymbol \\beta^{(i)}, \\mathbf x^{(i)})) $$"
   ]
  },
  {
   "cell_type": "markdown",
   "metadata": {
    "slideshow": {
     "slide_type": "fragment"
    }
   },
   "source": [
    "* A mathematical problem where the task is to find the minimum or maximum of a function is called an **optimization problem**.\n",
    "* There are various numerical methods for solving such optimization problems. "
   ]
  },
  {
   "cell_type": "markdown",
   "metadata": {
    "slideshow": {
     "slide_type": "slide"
    }
   },
   "source": [
    "### Generalization\n",
    "\n",
    "The primary objective in supervised learning is to find a model that is **generalizes** - one that accurately estimates $y$ for previously unseen $\\mathbf x$."
   ]
  },
  {
   "cell_type": "markdown",
   "metadata": {
    "slideshow": {
     "slide_type": "fragment"
    }
   },
   "source": [
    "> Is a sample that is not in my data malignant or benign?"
   ]
  },
  {
   "cell_type": "markdown",
   "metadata": {
    "slideshow": {
     "slide_type": "subslide"
    }
   },
   "source": [
    "When logistic regression is used as a regression analysis tool in statistics, the goal is to obtains estimates of the $\\beta$ coefficients.\n",
    "\n",
    "1. The model is fit to the entirety of a collected dataset\n",
    "2. The coefficients are interpreted\n",
    "\n",
    "![](images/regression-analysis-process.svg)"
   ]
  },
  {
   "cell_type": "markdown",
   "metadata": {
    "slideshow": {
     "slide_type": "subslide"
    }
   },
   "source": [
    "When we view LR as a machine learning method, our goal is somewhat different: we want to learn a classifier that generalizes well to unseen instances.\n",
    "\n",
    "1. The research data is split into a __test set__ and a __training set__\n",
    "2. The model is fit to (*trained on*) the training set\n",
    "3. We evaluate how well the model generalizes using a test set\n",
    "\n",
    "![](images/ml-process.svg)"
   ]
  },
  {
   "cell_type": "markdown",
   "metadata": {
    "slideshow": {
     "slide_type": "subslide"
    }
   },
   "source": [
    "| LR regression analysis (statistics) | | LR for classification (ML) |\n",
    "|----|----|----|\n",
    "| ![](images/regression-analysis-process.svg) | | ![](images/ml-process.svg) |"
   ]
  },
  {
   "cell_type": "markdown",
   "metadata": {
    "slideshow": {
     "slide_type": "skip"
    }
   },
   "source": [
    "Let's set up a test set and a training set for our dataset:"
   ]
  },
  {
   "cell_type": "code",
   "execution_count": 7,
   "metadata": {
    "slideshow": {
     "slide_type": "skip"
    }
   },
   "outputs": [],
   "source": [
    "# Scikit-Learn has a handy tool for creating a random train-test split\n",
    "features_train, features_test, target_train, target_test = \\\n",
    "    train_test_split(data.data, data.target, test_size=0.3, stratify = data.target)"
   ]
  },
  {
   "cell_type": "code",
   "execution_count": 8,
   "metadata": {
    "slideshow": {
     "slide_type": "skip"
    }
   },
   "outputs": [],
   "source": [
    "# Let's fit a logistic regression model to the test set\n",
    "lr = LogisticRegression(penalty='none', solver='saga', max_iter = 100000).fit(features_train, target_train)"
   ]
  },
  {
   "cell_type": "markdown",
   "metadata": {
    "slideshow": {
     "slide_type": "subslide"
    }
   },
   "source": [
    "Logistic regression model coefficients learned for the Breast Cancer Wisconsin dataset:"
   ]
  },
  {
   "cell_type": "code",
   "execution_count": 9,
   "metadata": {
    "slideshow": {
     "slide_type": "fragment"
    },
    "tasgs": [
     "to_remove"
    ]
   },
   "outputs": [
    {
     "data": {
      "text/html": [
       "<div>\n",
       "<style scoped>\n",
       "    .dataframe tbody tr th:only-of-type {\n",
       "        vertical-align: middle;\n",
       "    }\n",
       "\n",
       "    .dataframe tbody tr th {\n",
       "        vertical-align: top;\n",
       "    }\n",
       "\n",
       "    .dataframe thead th {\n",
       "        text-align: right;\n",
       "    }\n",
       "</style>\n",
       "<table border=\"1\" class=\"dataframe\">\n",
       "  <thead>\n",
       "    <tr style=\"text-align: right;\">\n",
       "      <th></th>\n",
       "      <th>Coefficient</th>\n",
       "    </tr>\n",
       "  </thead>\n",
       "  <tbody>\n",
       "    <tr>\n",
       "      <th>Intercept</th>\n",
       "      <td>0.001733</td>\n",
       "    </tr>\n",
       "    <tr>\n",
       "      <th>mean radius</th>\n",
       "      <td>0.012246</td>\n",
       "    </tr>\n",
       "    <tr>\n",
       "      <th>mean texture</th>\n",
       "      <td>0.006294</td>\n",
       "    </tr>\n",
       "    <tr>\n",
       "      <th>mean perimeter</th>\n",
       "      <td>0.066484</td>\n",
       "    </tr>\n",
       "    <tr>\n",
       "      <th>mean area</th>\n",
       "      <td>0.015626</td>\n",
       "    </tr>\n",
       "    <tr>\n",
       "      <th>mean smoothness</th>\n",
       "      <td>0.000084</td>\n",
       "    </tr>\n",
       "    <tr>\n",
       "      <th>mean compactness</th>\n",
       "      <td>-0.000200</td>\n",
       "    </tr>\n",
       "    <tr>\n",
       "      <th>mean concavity</th>\n",
       "      <td>-0.000402</td>\n",
       "    </tr>\n",
       "    <tr>\n",
       "      <th>mean concave points</th>\n",
       "      <td>-0.000171</td>\n",
       "    </tr>\n",
       "    <tr>\n",
       "      <th>mean symmetry</th>\n",
       "      <td>0.000164</td>\n",
       "    </tr>\n",
       "    <tr>\n",
       "      <th>mean fractal dimension</th>\n",
       "      <td>0.000081</td>\n",
       "    </tr>\n",
       "    <tr>\n",
       "      <th>radius error</th>\n",
       "      <td>-0.000003</td>\n",
       "    </tr>\n",
       "    <tr>\n",
       "      <th>texture error</th>\n",
       "      <td>0.000502</td>\n",
       "    </tr>\n",
       "    <tr>\n",
       "      <th>perimeter error</th>\n",
       "      <td>-0.001112</td>\n",
       "    </tr>\n",
       "    <tr>\n",
       "      <th>area error</th>\n",
       "      <td>-0.030450</td>\n",
       "    </tr>\n",
       "    <tr>\n",
       "      <th>smoothness error</th>\n",
       "      <td>0.000001</td>\n",
       "    </tr>\n",
       "    <tr>\n",
       "      <th>compactness error</th>\n",
       "      <td>-0.000059</td>\n",
       "    </tr>\n",
       "    <tr>\n",
       "      <th>concavity error</th>\n",
       "      <td>-0.000070</td>\n",
       "    </tr>\n",
       "    <tr>\n",
       "      <th>concave points error</th>\n",
       "      <td>-0.000018</td>\n",
       "    </tr>\n",
       "    <tr>\n",
       "      <th>symmetry error</th>\n",
       "      <td>0.000005</td>\n",
       "    </tr>\n",
       "    <tr>\n",
       "      <th>fractal dimension error</th>\n",
       "      <td>-0.000002</td>\n",
       "    </tr>\n",
       "    <tr>\n",
       "      <th>worst radius</th>\n",
       "      <td>0.012798</td>\n",
       "    </tr>\n",
       "    <tr>\n",
       "      <th>worst texture</th>\n",
       "      <td>0.005503</td>\n",
       "    </tr>\n",
       "    <tr>\n",
       "      <th>worst perimeter</th>\n",
       "      <td>0.065748</td>\n",
       "    </tr>\n",
       "    <tr>\n",
       "      <th>worst area</th>\n",
       "      <td>-0.027434</td>\n",
       "    </tr>\n",
       "    <tr>\n",
       "      <th>worst smoothness</th>\n",
       "      <td>0.000083</td>\n",
       "    </tr>\n",
       "    <tr>\n",
       "      <th>worst compactness</th>\n",
       "      <td>-0.000748</td>\n",
       "    </tr>\n",
       "    <tr>\n",
       "      <th>worst concavity</th>\n",
       "      <td>-0.001009</td>\n",
       "    </tr>\n",
       "    <tr>\n",
       "      <th>worst concave points</th>\n",
       "      <td>-0.000275</td>\n",
       "    </tr>\n",
       "    <tr>\n",
       "      <th>worst symmetry</th>\n",
       "      <td>0.000112</td>\n",
       "    </tr>\n",
       "    <tr>\n",
       "      <th>worst fractal dimension</th>\n",
       "      <td>0.000032</td>\n",
       "    </tr>\n",
       "  </tbody>\n",
       "</table>\n",
       "</div>"
      ],
      "text/plain": [
       "                         Coefficient\n",
       "Intercept                   0.001733\n",
       "mean radius                 0.012246\n",
       "mean texture                0.006294\n",
       "mean perimeter              0.066484\n",
       "mean area                   0.015626\n",
       "mean smoothness             0.000084\n",
       "mean compactness           -0.000200\n",
       "mean concavity             -0.000402\n",
       "mean concave points        -0.000171\n",
       "mean symmetry               0.000164\n",
       "mean fractal dimension      0.000081\n",
       "radius error               -0.000003\n",
       "texture error               0.000502\n",
       "perimeter error            -0.001112\n",
       "area error                 -0.030450\n",
       "smoothness error            0.000001\n",
       "compactness error          -0.000059\n",
       "concavity error            -0.000070\n",
       "concave points error       -0.000018\n",
       "symmetry error              0.000005\n",
       "fractal dimension error    -0.000002\n",
       "worst radius                0.012798\n",
       "worst texture               0.005503\n",
       "worst perimeter             0.065748\n",
       "worst area                 -0.027434\n",
       "worst smoothness            0.000083\n",
       "worst compactness          -0.000748\n",
       "worst concavity            -0.001009\n",
       "worst concave points       -0.000275\n",
       "worst symmetry              0.000112\n",
       "worst fractal dimension     0.000032"
      ]
     },
     "execution_count": 9,
     "metadata": {},
     "output_type": "execute_result"
    }
   ],
   "source": [
    "# We can inspect the learned coefficients and intercept\n",
    "pd.DataFrame(np.append(lr.intercept_, lr.coef_), columns = ['Coefficient'], index = np.append(\"Intercept\", data.feature_names))"
   ]
  },
  {
   "cell_type": "markdown",
   "metadata": {
    "slideshow": {
     "slide_type": "slide"
    }
   },
   "source": [
    "Let us see how well our model performs on the test set and the training set"
   ]
  },
  {
   "cell_type": "code",
   "execution_count": 18,
   "metadata": {
    "slideshow": {
     "slide_type": "fragment"
    },
    "tags": [
     "to_remove"
    ]
   },
   "outputs": [
    {
     "data": {
      "image/png": "[encoded data removed]",
      "text/plain": [
       "<Figure size 864x288 with 4 Axes>"
      ]
     },
     "metadata": {
      "needs_background": "light"
     },
     "output_type": "display_data"
    }
   ],
   "source": [
    "# We can visualize the logistic function fits and classification box plots\n",
    "\n",
    "xbeta_train = np.dot(features_train, lr.coef_.transpose()) + lr.intercept_\n",
    "xbeta_test = np.dot(features_test, lr.coef_.transpose()) + lr.intercept_\n",
    "\n",
    "yhat_train = lr.predict_proba(features_train)[:,1]\n",
    "yhat_test = lr.predict_proba(features_test)[:,1]\n",
    "\n",
    "xbeta_limit = max(max(abs(xbeta_train)), max(abs(xbeta_test)))\n",
    "\n",
    "x_line = np.linspace(-xbeta_limit, xbeta_limit, 100)\n",
    "y_line = expit(x_line)\n",
    "\n",
    "# Prepare 4 subplots\n",
    "_, (ax1, ax2, ax3, ax4) = plt.subplots(1,4, gridspec_kw={'width_ratios': [2,1,1,2]}, figsize=(12,4))\n",
    "\n",
    "# Logistic fit on the training set\n",
    "#ax1 = \n",
    "ax1.plot(x_line, y_line)\n",
    "ax1.scatter(xbeta_train, yhat_train, c=target_train)\n",
    "ax1.set_xlabel(r'$\\mathbf x^T \\beta$')\n",
    "ax1.set_ylabel(r'$\\hat y$')\n",
    "ax1.set_title('LR fit on the training set')\n",
    "\n",
    "# Logistic fit on the test set\n",
    "#ax4 = plt.subplot(1,4,4)\n",
    "ax4.plot(x_line, y_line)\n",
    "ax4.scatter(xbeta_test, yhat_test, c=target_test)\n",
    "ax4.set_xlabel(r'$\\mathbf x^T \\beta$')\n",
    "#ax4.set_ylabel(r'$\\hat y$')\n",
    "ax4.set_title('LR fit on the test set')\n",
    "\n",
    "# We can compare the training set and the test set by plotting y-hat vs y\n",
    "yhat_train_ps = yhat_train[target_train == 1]\n",
    "yhat_train_ns = yhat_train[target_train == 0]\n",
    "yhat_test_ps = yhat_test[target_test == 1]\n",
    "yhat_test_ns = yhat_test[target_test == 0]\n",
    "\n",
    "#ax2 = plt.subplot(1,4,2)\n",
    "ax2.boxplot([yhat_train_ns, yhat_train_ps], positions=[0,1])\n",
    "#ax2.set_ylabel(r'$\\hat y$')\n",
    "ax2.set_xlabel(r'$y$')\n",
    "ax2.set_title('Training set')\n",
    "ax2.plot([-0.3,1.3], [0.5,0.5])\n",
    "\n",
    "#ax3 = plt.subplot(1,4,3)\n",
    "ax3.boxplot([yhat_test_ns, yhat_test_ps], positions=[0,1])\n",
    "#ax3.set_ylabel(r'$\\hat y$')\n",
    "ax3.set_xlabel(r'$y$')\n",
    "ax3.set_title('Test set')\n",
    "ax3.plot([-0.3,1.3], [0.5,0.5])\n",
    "\n",
    "plt.show()"
   ]
  },
  {
   "cell_type": "markdown",
   "metadata": {
    "slideshow": {
     "slide_type": "fragment"
    }
   },
   "source": [
    "One way to convert the estimate $\\hat y$ that the model gives (a probability) to a class label (0 or 1) is to use a threshold, and a natural choice would be 0.5."
   ]
  },
  {
   "cell_type": "markdown",
   "metadata": {
    "slideshow": {
     "slide_type": "slide"
    }
   },
   "source": [
    "## Confusion matrix\n",
    "Given such a threshold, we can compute a *confusion matrix* and various derived metrics:\n",
    "\n",
    "| | Condition Positive | Condition Negative | |\n",
    "|----|----|----|----|\n",
    "| **Predicted Positive** | True positive (TP) | False positive (FP) | **Precision** or **Positive predictive value** $\\frac{TP}{TP+FP}$ |\n",
    "| **Predicted Negative** | False negative (FN) | True negative (TN) | |\n",
    "| | **True positive rate** or **Recall** or **Sensitivity** $\\frac{TP}{TP+FN}$ | **False positive rate** $\\frac{FP}{FP+TN}$ | $F_1 = 2 \\frac{\\text{Precision} \\times \\text{Recall}}{\\text{Precision} + \\text{Recall}}$ |\n",
    "| | **False negative rate ** $\\frac{FN}{TP+FN}$ | **Specificity** or **True negative rate** $\\frac{TN}{FP+TN}$ |\n",
    "\n",
    "*The [Wikipedia article](https://en.wikipedia.org/wiki/Confusion_matrix) has a more complete illustration of derived metrics*"
   ]
  },
  {
   "cell_type": "markdown",
   "metadata": {
    "slideshow": {
     "slide_type": "subslide"
    }
   },
   "source": [
    "### Confusion matrix and derived metrics for our dataset\n",
    "\n",
    "| | Condition Positive | Condition Negative | |\n",
    "|----|----|----|----|\n",
    "| **Predicted Positive** | True positive (TP) | False positive (FP) | **Precision** or **Positive predictive value** $\\frac{TP}{TP+FP}$ |\n",
    "| **Predicted Negative** | False negative (FN) | True negative (TN) | |\n",
    "| | **True positive rate** or **Recall** or **Sensitivity** $\\frac{TP}{TP+FN}$ | **False positive rate** $\\frac{FP}{FP+TN}$ | $F_1 = 2 \\frac{\\text{Precision} \\times \\text{Recall}}{\\text{Precision} + \\text{Recall}}$ |\n",
    "| | **False negative rate ** $\\frac{FN}{TP+FN}$ | **Specificity** or **True negative rate** $\\frac{TN}{FP+TN}$ |"
   ]
  },
  {
   "cell_type": "code",
   "execution_count": 11,
   "metadata": {
    "slideshow": {
     "slide_type": "fragment"
    },
    "tags": [
     "to_remove"
    ]
   },
   "outputs": [
    {
     "data": {
      "text/html": [
       "<div>\n",
       "<style scoped>\n",
       "    .dataframe tbody tr th:only-of-type {\n",
       "        vertical-align: middle;\n",
       "    }\n",
       "\n",
       "    .dataframe tbody tr th {\n",
       "        vertical-align: top;\n",
       "    }\n",
       "\n",
       "    .dataframe thead th {\n",
       "        text-align: right;\n",
       "    }\n",
       "</style>\n",
       "<table border=\"1\" class=\"dataframe\">\n",
       "  <thead>\n",
       "    <tr style=\"text-align: right;\">\n",
       "      <th></th>\n",
       "      <th>$y=1$</th>\n",
       "      <th>$y=0$</th>\n",
       "    </tr>\n",
       "  </thead>\n",
       "  <tbody>\n",
       "    <tr>\n",
       "      <th>$\\hat y &gt; 0.5$</th>\n",
       "      <td>105</td>\n",
       "      <td>13</td>\n",
       "    </tr>\n",
       "    <tr>\n",
       "      <th>$\\hat y &lt;= 0.5$</th>\n",
       "      <td>2</td>\n",
       "      <td>51</td>\n",
       "    </tr>\n",
       "  </tbody>\n",
       "</table>\n",
       "</div>"
      ],
      "text/plain": [
       "                 $y=1$  $y=0$\n",
       "$\\hat y > 0.5$     105     13\n",
       "$\\hat y <= 0.5$      2     51"
      ]
     },
     "execution_count": 11,
     "metadata": {},
     "output_type": "execute_result"
    }
   ],
   "source": [
    "# Print confusion matrix\n",
    "tp = sum(yhat_test_ps > 0.5)\n",
    "fn = sum(yhat_test_ps <= 0.5)\n",
    "fp = sum(yhat_test_ns > 0.5)\n",
    "tn = sum(yhat_test_ns <= 0.5)\n",
    "pd.DataFrame( [[tp, fp],[fn, tn]], columns = [\"$y=1$\", \"$y=0$\"], index = [\"$\\hat y > 0.5$\", \"$\\hat y \\leq 0.5$\"])"
   ]
  },
  {
   "cell_type": "code",
   "execution_count": 30,
   "metadata": {
    "slideshow": {
     "slide_type": "fragment"
    },
    "tags": [
     "to_remove"
    ]
   },
   "outputs": [
    {
     "data": {
      "text/html": [
       "<div>\n",
       "<style scoped>\n",
       "    .dataframe tbody tr th:only-of-type {\n",
       "        vertical-align: middle;\n",
       "    }\n",
       "\n",
       "    .dataframe tbody tr th {\n",
       "        vertical-align: top;\n",
       "    }\n",
       "\n",
       "    .dataframe thead th {\n",
       "        text-align: right;\n",
       "    }\n",
       "</style>\n",
       "<table border=\"1\" class=\"dataframe\">\n",
       "  <thead>\n",
       "    <tr style=\"text-align: right;\">\n",
       "      <th></th>\n",
       "      <th>Precision</th>\n",
       "      <th>Recall</th>\n",
       "      <th>False positive rate</th>\n",
       "      <th>Specificity</th>\n",
       "      <th>F1-score</th>\n",
       "    </tr>\n",
       "  </thead>\n",
       "  <tbody>\n",
       "    <tr>\n",
       "      <th></th>\n",
       "      <td>0.889831</td>\n",
       "      <td>0.981308</td>\n",
       "      <td>0.203125</td>\n",
       "      <td>0.796875</td>\n",
       "      <td>0.933333</td>\n",
       "    </tr>\n",
       "  </tbody>\n",
       "</table>\n",
       "</div>"
      ],
      "text/plain": [
       "  Precision    Recall  False positive rate  Specificity  F1-score\n",
       "   0.889831  0.981308             0.203125     0.796875  0.933333"
      ]
     },
     "execution_count": 30,
     "metadata": {},
     "output_type": "execute_result"
    }
   ],
   "source": [
    "# Print pretty table with precision, recall, and F1\n",
    "\n",
    "prec = tp/(tp+fp)\n",
    "rec = tp/(tp+fn)\n",
    "fpr = fp/(fp+tn)\n",
    "spec = tn/(fp+tn)\n",
    "f1 = 2*prec*rec/(prec+rec)\n",
    "\n",
    "pd.DataFrame([[prec, rec, fpr, spec, f1]], columns=[\"Precision\", \"Recall\", \"False positive rate\", \"Specificity\", \"F1-score\" ], index=[''])"
   ]
  },
  {
   "cell_type": "markdown",
   "metadata": {
    "slideshow": {
     "slide_type": "slide"
    }
   },
   "source": [
    "## ROC Curves\n",
    "\n",
    "* When we have a classifier that yields continuous scores, instead of considering just one threshold, we can also vary the threshold, obtaining a sequence of confusion matrices.\n",
    "* A **Reciever Operating Characteristic (ROC) Curve** is one way to evaluate how a classifier performs across all threshold values.\n",
    "* It is a plot of the true positive rate (also sensitivity, recall) against the false positive rate (also \"1 - specificity\")"
   ]
  },
  {
   "cell_type": "code",
   "execution_count": 13,
   "metadata": {
    "slideshow": {
     "slide_type": "fragment"
    },
    "tags": [
     "to_remove"
    ]
   },
   "outputs": [
    {
     "data": {
      "image/png": "[encoded data removed]",
      "text/plain": [
       "<Figure size 432x288 with 1 Axes>"
      ]
     },
     "metadata": {
      "needs_background": "light"
     },
     "output_type": "display_data"
    }
   ],
   "source": [
    "# Plot ROC\n",
    "fpr, tpr, _ = roc_curve(target_test, yhat_test)\n",
    "roc_auc = auc(fpr, tpr)\n",
    "\n",
    "ax = plt.subplot(1,1,1)\n",
    "ax.plot(fpr, tpr, label=f'ROC curve (area = {roc_auc:.4f})')\n",
    "ax.plot([0,1],[0,1], linestyle = '--')\n",
    "ax.set_aspect('equal')\n",
    "ax.set_xlabel('False Positive Rate')\n",
    "ax.set_ylabel('True Positive Rate')\n",
    "ax.set_title('Test set reciever operating charachteristic')\n",
    "ax.legend(loc='lower right')\n",
    "\n",
    "plt.show()"
   ]
  },
  {
   "cell_type": "markdown",
   "metadata": {
    "slideshow": {
     "slide_type": "fragment"
    }
   },
   "source": [
    "The area under the curve is typically used as a summary metric."
   ]
  }
 ],
 "metadata": {
  "celltoolbar": "Slideshow",
  "kernelspec": {
   "display_name": "Python 3",
   "language": "python",
   "name": "python3"
  },
  "language_info": {
   "codemirror_mode": {
    "name": "ipython",
    "version": 3
   },
   "file_extension": ".py",
   "mimetype": "text/x-python",
   "name": "python",
   "nbconvert_exporter": "python",
   "pygments_lexer": "ipython3",
   "version": "3.7.6"
  }
 },
 "nbformat": 4,
 "nbformat_minor": 4
}
