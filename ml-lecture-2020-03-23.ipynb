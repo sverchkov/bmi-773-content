{
 "cells": [
  {
   "cell_type": "markdown",
   "metadata": {
    "slideshow": {
     "slide_type": "slide"
    }
   },
   "source": [
    "# Machine Learning\n",
    "\n",
    "*Yuriy Sverchkov*\n",
    "\n",
    "**BMI 773 Clinical Research Informatics**\n",
    "\n",
    "March 23, 2020"
   ]
  },
  {
   "cell_type": "markdown",
   "metadata": {
    "slideshow": {
     "slide_type": "slide"
    }
   },
   "source": [
    "## Lecture Goals\n",
    "\n",
    "* Be able to define Machine Learning\n",
    "* List the most common tasks that machine learning is used to solve\n",
    "* Be able to distinguish between a supervised and unsupervised task\n",
    "* Describe how some widely-used machine learning methods work\n",
    "* Describe how machine learning methods are trained and evaluated"
   ]
  },
  {
   "cell_type": "markdown",
   "metadata": {
    "slideshow": {
     "slide_type": "slide"
    }
   },
   "source": [
    "## What is Machine Learning"
   ]
  },
  {
   "cell_type": "markdown",
   "metadata": {
    "slideshow": {
     "slide_type": "slide"
    }
   },
   "source": [
    "## Machine Learning Tasks\n",
    "* Classification\n",
    "* Regression\n",
    "* Clustering"
   ]
  },
  {
   "cell_type": "markdown",
   "metadata": {},
   "source": [
    "## The ML workflow for supervised classification/regression\n",
    "\n",
    "1. Have a question about data of the form \"can some set of measurements/observations predict an outcome?\"\n",
    "2. Turn your measurements and observations into numbers (some are numbers already, categorical variables should usually be 1-hot)\n",
    "3. Turn your outome into a number (this is where it becomes clear if we're doing classification or regression)\n",
    "4. Fit a mathematical model on some known outcomes\n",
    "5. Test if it works\n",
    "6. You now have a way of predicting the outcome from your measurements"
   ]
  },
  {
   "cell_type": "markdown",
   "metadata": {
    "slideshow": {
     "slide_type": "slide"
    }
   },
   "source": [
    "## Logistic Regression\n",
    "\n",
    "Most of you are probably familiar with logistic regression in one context or another."
   ]
  },
  {
   "cell_type": "markdown",
   "metadata": {
    "slideshow": {
     "slide_type": "fragment"
    }
   },
   "source": [
    "### Examples\n",
    "(todo)"
   ]
  },
  {
   "cell_type": "markdown",
   "metadata": {
    "slideshow": {
     "slide_type": "fragment"
    }
   },
   "source": [
    "### Mathematical notation\n",
    "\n",
    "The model that is learned in logistic regression has the form:\n",
    "\n",
    "$y = logit( \\beta x )$\n",
    "\n",
    "Note the simple structure of the model: features are multiplied by weights and summed, then, a function is applied to transform the result.\n",
    "\n",
    "Let's look at the logit function more closely:"
   ]
  },
  {
   "cell_type": "code",
   "execution_count": 2,
   "metadata": {
    "slideshow": {
     "slide_type": "fragment"
    }
   },
   "outputs": [],
   "source": [
    "# Plot logit here"
   ]
  },
  {
   "cell_type": "markdown",
   "metadata": {
    "slideshow": {
     "slide_type": "notes"
    }
   },
   "source": [
    "This function has an unbounded domain (goes all the way fron $-\\infty$ to $+\\infty$) and a range from 0 to 1.\n",
    "\n",
    "Note that it is also *monotonically increasing*, that is, if $a > b$ then $logit(a) > logit(b)$.\n",
    "\n",
    "This property makes it particularly easy to interpret what the weights mean: higher positive weights mean that x correlates with y, weights near 0 mean that x does not affect y much, and hight negative weights "
   ]
  },
  {
   "cell_type": "code",
   "execution_count": null,
   "metadata": {},
   "outputs": [],
   "source": []
  },
  {
   "cell_type": "code",
   "execution_count": null,
   "metadata": {},
   "outputs": [],
   "source": []
  }
 ],
 "metadata": {
  "celltoolbar": "Slideshow",
  "kernelspec": {
   "display_name": "Python 3",
   "language": "python",
   "name": "python3"
  },
  "language_info": {
   "codemirror_mode": {
    "name": "ipython",
    "version": 3
   },
   "file_extension": ".py",
   "mimetype": "text/x-python",
   "name": "python",
   "nbconvert_exporter": "python",
   "pygments_lexer": "ipython3",
   "version": "3.7.6"
  }
 },
 "nbformat": 4,
 "nbformat_minor": 4
}
