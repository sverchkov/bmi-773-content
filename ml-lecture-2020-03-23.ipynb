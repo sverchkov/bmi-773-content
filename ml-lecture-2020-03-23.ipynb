{
 "cells": [
  {
   "cell_type": "markdown",
   "metadata": {
    "slideshow": {
     "slide_type": "slide"
    }
   },
   "source": [
    "# Machine Learning\n",
    "\n",
    "*Yuriy Sverchkov*\n",
    "\n",
    "**BMI 773 Clinical Research Informatics**\n",
    "\n",
    "March 23, 2020"
   ]
  },
  {
   "cell_type": "markdown",
   "metadata": {
    "slideshow": {
     "slide_type": "subslide"
    }
   },
   "source": [
    "## Submodule learning objectives\n",
    "\n",
    "* Students will be able to define the supervised learning task.\n",
    "* Students will be able to explain how several supervised machine-learning algorithms work.\n",
    "* Students will be able to select appropriate methodologies for evaluating the predictive accuracy of learned models.\n",
    "* Students will be able to apply a supervised learning algorithm package to a health data set and evaluate the predictive accuracy of the learned model(s)."
   ]
  },
  {
   "cell_type": "markdown",
   "metadata": {
    "slideshow": {
     "slide_type": "subslide"
    }
   },
   "source": [
    "## Lecture Goals\n",
    "\n",
    "* Define Machine Learning\n",
    "* Define the supervised learning tasks\n",
    "* Consider how to represent instances as fixed-length feature vectors\n",
    "* Understand concepts\n",
    "  * instance (example)\n",
    "  * feature (attribute)\n",
    "  * model (hypothesis)\n",
    "  * training set\n",
    "  * test set\n",
    "  * supervised learning\n",
    "  * classification\n",
    "  * regression\n",
    "\n",
    "* Describe how some widely-used machine learning methods work\n",
    "* Describe how machine learning methods are trained and evaluated"
   ]
  },
  {
   "cell_type": "markdown",
   "metadata": {
    "slideshow": {
     "slide_type": "slide"
    }
   },
   "source": [
    "## What is Machine Learning?\n",
    "\n",
    "> The study of algorithms that improve their __performance__ at some __task__ with __experience__.\n",
    "\n",
    "*(paraphrased from Mitchell, T. (1997) Machine Learning)*\n"
   ]
  },
  {
   "cell_type": "markdown",
   "metadata": {
    "slideshow": {
     "slide_type": "fragment"
    }
   },
   "source": [
    "### Example: breast cancer prediction\n",
    "\n",
    "* __Task:__ given biopsy samples, classify samples as benign vs. malignant\n",
    "* __Performance:__ minimize misclassifications\n",
    "* __Experience:__ samples known to be benign and samples known to be malignant"
   ]
  },
  {
   "cell_type": "markdown",
   "metadata": {
    "slideshow": {
     "slide_type": "slide"
    }
   },
   "source": [
    "## Supervised Learning\n",
    "\n",
    "The supervised learning *task* is usually to learn a model that estimates the value of a *target* attribute given other attributes (*features*) of a sample.\n",
    "\n",
    "* Classification - the target is *categorical* and takes one value out of a finite set\n",
    "* Regression - the target is a number that can take values in some continuous range"
   ]
  },
  {
   "cell_type": "markdown",
   "metadata": {
    "slideshow": {
     "slide_type": "fragment"
    }
   },
   "source": [
    "**Supervised learning** refers to the case where the *experience* the algorithm recieves is samples with known target values.\n",
    "\n",
    "Other types of learning could be\n",
    "\n",
    "* Unsupervised - the algorithm sees samples without known target values\n",
    "* Semi-supervised - the algorithm sees a mix of samples with and without target values\n",
    "* Active learning - the algorithm chooses which samples to observe"
   ]
  },
  {
   "cell_type": "markdown",
   "metadata": {
    "slideshow": {
     "slide_type": "slide"
    }
   },
   "source": [
    "### Training set\n",
    "In supervised learning, the *experience* the algorithm recieves is samples with known target values. This is called a __training set__."
   ]
  },
  {
   "cell_type": "markdown",
   "metadata": {
    "slideshow": {
     "slide_type": "fragment"
    }
   },
   "source": [
    "### Example: breast cancer prediction\n",
    "\n",
    "* __Features:__ properties of images of cell nuclei\n",
    "* __Target:__ *malignant* or *benign*\n",
    "  * This is a *classification* task\n"
   ]
  },
  {
   "cell_type": "markdown",
   "metadata": {
    "slideshow": {
     "slide_type": "fragment"
    }
   },
   "source": [
    "For the breast cancer prediction task, we have the following form for the training set:\n",
    "\n",
    "| Features: | radius | texture | perimiter | area | ... | | target class |\n",
    "|------------|--------|---------|-----------|------|-----|----|----|\n",
    "|$\\mathbf x^{(1)} = \\langle$ | 17.99, | 10.38, | 122.8, | 1001. | $\\ldots$ | $\\rangle$ | $y^{(1)}=$ Malignant |\n",
    "|$\\mathbf x^{(2)} = \\langle$ | 20.57, | 17.77, | 132.9, | 1326. | $\\ldots$ | $\\rangle$ | $y^{(2)}=$ Malignant |\n",
    "|$\\mathbf x^{(3)} = \\langle$ | 13.08, | 15.71, | 85.63, | 520. | $\\ldots$ | $\\rangle$ | $y^{(3)}=$ Benign |\n",
    "| $\\vdots$ | | | | | | | $\\vdots$ |\n",
    "\n",
    "This is a **fixed-length vector** representation for the features."
   ]
  },
  {
   "cell_type": "markdown",
   "metadata": {
    "slideshow": {
     "slide_type": "skip"
    }
   },
   "source": [
    "TODO: add another example"
   ]
  },
  {
   "cell_type": "markdown",
   "metadata": {
    "slideshow": {
     "slide_type": "slide"
    }
   },
   "source": [
    "### Generalization\n",
    "\n",
    "The primary objective in supervised learning is to find a model that is **generalizes** - one that accurately estimates $y$ for previously unseen $\\mathbf x$."
   ]
  },
  {
   "cell_type": "markdown",
   "metadata": {
    "slideshow": {
     "slide_type": "skip"
    }
   },
   "source": [
    "> Is this sample that is not in my training set malignant?"
   ]
  },
  {
   "cell_type": "markdown",
   "metadata": {
    "slideshow": {
     "slide_type": "slide"
    }
   },
   "source": [
    "### Supervised learning as function learning\n",
    "\n",
    "In supervised learning our *task* is to learn a *model* that estimates the value of a *target* from *features* for each sample.\n",
    "Mathematically, the model is expressed as a *function*:\n",
    "\n",
    "$$ \\overbrace{f}^\\text{model}( \\underbrace{\\mathbf{x}}_{\\text{features}} ) = \\overbrace{\\hat y}^{\\text{estimate of target}} $$"
   ]
  },
  {
   "cell_type": "markdown",
   "metadata": {
    "slideshow": {
     "slide_type": "fragment"
    }
   },
   "source": [
    "* Our task is to learn a function $f$ that yields accurate estimates $\\hat y$.\n",
    "* Which function $f$ *minimizes* the mismatch between $y$ and $\\hat y$?\n",
    "* The mismatch is often expressed as a **cost function** $\\textrm{cost}(y, \\hat y)$."
   ]
  },
  {
   "cell_type": "markdown",
   "metadata": {
    "slideshow": {
     "slide_type": "slide"
    }
   },
   "source": [
    "## Logistic Regression\n",
    "\n",
    "* Logistic regression is a model used in binary classification\n",
    "* In binary classification there are two possible values for the target variable $y$, which we can assign to the values 0 and 1\n",
    "* The model then takes the form\n",
    "\n",
    "$$ \\text{Probability}(y=1)\n",
    "= \\mathrm{expit}(\\beta_0 + \\beta_1 x_1 + \\beta_2 x_2 + \\ldots + \\beta_d x_d)\n",
    "= \\frac{1}{1 + e^{-(\\beta_0 + \\beta_1 x_1 + \\beta_2 x_2 + \\ldots + \\beta_d x_d )}} $$\n",
    "\n",
    "* The learning task consists of finding the right **parameters** (in this case also *weights*) $\\beta_0, \\beta_1, \\beta_2, \\ldots, \\beta_d$"
   ]
  },
  {
   "cell_type": "code",
   "execution_count": 3,
   "metadata": {
    "slideshow": {
     "slide_type": "fragment"
    },
    "tags": [
     "to_remove"
    ]
   },
   "outputs": [
    {
     "data": {
      "image/png": "[encoded data removed]",
      "text/plain": [
       "<Figure size 432x288 with 1 Axes>"
      ]
     },
     "metadata": {
      "needs_background": "light"
     },
     "output_type": "display_data"
    }
   ],
   "source": [
    "# Load numpy and pyplot\n",
    "import numpy as np\n",
    "import matplotlib.pyplot as plt\n",
    "from scipy.special import expit\n",
    "import matplotlib\n",
    "matplotlib.rcParams['text.usetex'] = True\n",
    "#matplotlib.rcParams['backend'] = 'agg'\n",
    "\n",
    "#%matplotlib ipympl\n",
    "\n",
    "# Plot expit\n",
    "x = np.linspace(-5,5,50)\n",
    "y = expit(x)\n",
    "\n",
    "plt.plot(x, y)\n",
    "plt.xlabel('x')\n",
    "plt.ylabel('expit(x)')\n",
    "plt.show()\n",
    "\n",
    "# point out the parameters\n",
    "# how to learn -- what is the cost function?\n",
    "# run on breast cancer data\n"
   ]
  },
  {
   "cell_type": "markdown",
   "metadata": {
    "slideshow": {
     "slide_type": "skip"
    }
   },
   "source": [
    "As an aside, when logistic regression is used as a regression analysis tool in statistics, the goal is to obtains estimates of the $\\beta$ coefficients.\n",
    "\n",
    "* The model is fit to the entirety of a collected dataset\n",
    "* The coefficients are interpreted\n",
    "\n",
    "When we view LR as a machine learning method, our goal is somewhat different: we want to learn a classifier that generalizes well to unseen instances.\n",
    "\n",
    "* The model is fit to a training set\n",
    "* We evaluate how well the model generalizes using a test set"
   ]
  },
  {
   "cell_type": "markdown",
   "metadata": {
    "slideshow": {
     "slide_type": "slide"
    }
   },
   "source": [
    "The cost function used in learning a logistic regression model is called the **cross-entropy loss**, specifically:\n",
    "\n",
    "$$ \\mathrm{cost}(y, \\hat y) =\n",
    " \\begin{cases}\n",
    "  -\\log( \\hat y ) & \\text{ if }y=1 \\\\\n",
    "  -\\log( 1-\\hat y ) & \\text{ if }y=0\n",
    " \\end{cases} $$"
   ]
  },
  {
   "cell_type": "code",
   "execution_count": 6,
   "metadata": {
    "slideshow": {
     "slide_type": "fragment"
    }
   },
   "outputs": [
    {
     "data": {
      "image/png": "[encoded data removed]",
      "text/plain": [
       "<Figure size 432x288 with 2 Axes>"
      ]
     },
     "metadata": {
      "needs_background": "light"
     },
     "output_type": "display_data"
    }
   ],
   "source": [
    "# Plot loss function for y=1, y=0\n",
    "x1 = np.linspace(1, 0, 50, endpoint=False)\n",
    "y1 = -np.log(x1)\n",
    "x0 = 1-x1\n",
    "y0 = -np.log(1-x0)\n",
    "\n",
    "ax1 = plt.subplot(1,2,1)\n",
    "ax1.plot(x1, y1)\n",
    "ax1.set_xlabel(r'$\\hat y$')\n",
    "ax1.set_ylabel(r'$-log(\\hat y)$')\n",
    "ax1.set_title(r'$y=1$')\n",
    "\n",
    "ax2 = plt.subplot(1,2,2)\n",
    "ax2.plot(x0, y0)\n",
    "ax2.set_xlabel(r'$\\hat y$')\n",
    "ax2.set_ylabel(r'$-log(1-\\hat y)$')\n",
    "ax2.set_title(r'$y=0$')\n",
    "\n",
    "plt.show()\n"
   ]
  },
  {
   "cell_type": "code",
   "execution_count": null,
   "metadata": {
    "collapsed": true,
    "jupyter": {
     "outputs_hidden": true
    },
    "slideshow": {
     "slide_type": "skip"
    }
   },
   "outputs": [],
   "source": [
    "# Load Breast Cancer Data\n",
    "from sklearn.datasets import load_breast_cancer\n",
    "data = load_breast_cancer()"
   ]
  },
  {
   "cell_type": "markdown",
   "metadata": {
    "slideshow": {
     "slide_type": "skip"
    }
   },
   "source": [
    "### Examples\n",
    "(todo)"
   ]
  },
  {
   "cell_type": "code",
   "execution_count": 38,
   "metadata": {
    "slideshow": {
     "slide_type": "skip"
    }
   },
   "outputs": [
    {
     "name": "stdout",
     "output_type": "stream",
     "text": [
      ".. _breast_cancer_dataset:\n",
      "\n",
      "Breast cancer wisconsin (diagnostic) dataset\n",
      "--------------------------------------------\n",
      "\n",
      "**Data Set Characteristics:**\n",
      "\n",
      "    :Number of Instances: 569\n",
      "\n",
      "    :Number of Attributes: 30 numeric, predictive attributes and the class\n",
      "\n",
      "    :Attribute Information:\n",
      "        - radius (mean of distances from center to points on the perimeter)\n",
      "        - texture (standard deviation of gray-scale values)\n",
      "        - perimeter\n",
      "        - area\n",
      "        - smoothness (local variation in radius lengths)\n",
      "        - compactness (perimeter^2 / area - 1.0)\n",
      "        - concavity (severity of concave portions of the contour)\n",
      "        - concave points (number of concave portions of the contour)\n",
      "        - symmetry \n",
      "        - fractal dimension (\"coastline approximation\" - 1)\n",
      "\n",
      "        The mean, standard error, and \"worst\" or largest (mean of the three\n",
      "        largest values) of these features were computed for each image,\n",
      "        resulting in 30 features.  For instance, field 3 is Mean Radius, field\n",
      "        13 is Radius SE, field 23 is Worst Radius.\n",
      "\n",
      "        - class:\n",
      "                - WDBC-Malignant\n",
      "                - WDBC-Benign\n",
      "\n",
      "    :Summary Statistics:\n",
      "\n",
      "    ===================================== ====== ======\n",
      "                                           Min    Max\n",
      "    ===================================== ====== ======\n",
      "    radius (mean):                        6.981  28.11\n",
      "    texture (mean):                       9.71   39.28\n",
      "    perimeter (mean):                     43.79  188.5\n",
      "    area (mean):                          143.5  2501.0\n",
      "    smoothness (mean):                    0.053  0.163\n",
      "    compactness (mean):                   0.019  0.345\n",
      "    concavity (mean):                     0.0    0.427\n",
      "    concave points (mean):                0.0    0.201\n",
      "    symmetry (mean):                      0.106  0.304\n",
      "    fractal dimension (mean):             0.05   0.097\n",
      "    radius (standard error):              0.112  2.873\n",
      "    texture (standard error):             0.36   4.885\n",
      "    perimeter (standard error):           0.757  21.98\n",
      "    area (standard error):                6.802  542.2\n",
      "    smoothness (standard error):          0.002  0.031\n",
      "    compactness (standard error):         0.002  0.135\n",
      "    concavity (standard error):           0.0    0.396\n",
      "    concave points (standard error):      0.0    0.053\n",
      "    symmetry (standard error):            0.008  0.079\n",
      "    fractal dimension (standard error):   0.001  0.03\n",
      "    radius (worst):                       7.93   36.04\n",
      "    texture (worst):                      12.02  49.54\n",
      "    perimeter (worst):                    50.41  251.2\n",
      "    area (worst):                         185.2  4254.0\n",
      "    smoothness (worst):                   0.071  0.223\n",
      "    compactness (worst):                  0.027  1.058\n",
      "    concavity (worst):                    0.0    1.252\n",
      "    concave points (worst):               0.0    0.291\n",
      "    symmetry (worst):                     0.156  0.664\n",
      "    fractal dimension (worst):            0.055  0.208\n",
      "    ===================================== ====== ======\n",
      "\n",
      "    :Missing Attribute Values: None\n",
      "\n",
      "    :Class Distribution: 212 - Malignant, 357 - Benign\n",
      "\n",
      "    :Creator:  Dr. William H. Wolberg, W. Nick Street, Olvi L. Mangasarian\n",
      "\n",
      "    :Donor: Nick Street\n",
      "\n",
      "    :Date: November, 1995\n",
      "\n",
      "This is a copy of UCI ML Breast Cancer Wisconsin (Diagnostic) datasets.\n",
      "https://goo.gl/U2Uwz2\n",
      "\n",
      "Features are computed from a digitized image of a fine needle\n",
      "aspirate (FNA) of a breast mass.  They describe\n",
      "characteristics of the cell nuclei present in the image.\n",
      "\n",
      "Separating plane described above was obtained using\n",
      "Multisurface Method-Tree (MSM-T) [K. P. Bennett, \"Decision Tree\n",
      "Construction Via Linear Programming.\" Proceedings of the 4th\n",
      "Midwest Artificial Intelligence and Cognitive Science Society,\n",
      "pp. 97-101, 1992], a classification method which uses linear\n",
      "programming to construct a decision tree.  Relevant features\n",
      "were selected using an exhaustive search in the space of 1-4\n",
      "features and 1-3 separating planes.\n",
      "\n",
      "The actual linear program used to obtain the separating plane\n",
      "in the 3-dimensional space is that described in:\n",
      "[K. P. Bennett and O. L. Mangasarian: \"Robust Linear\n",
      "Programming Discrimination of Two Linearly Inseparable Sets\",\n",
      "Optimization Methods and Software 1, 1992, 23-34].\n",
      "\n",
      "This database is also available through the UW CS ftp server:\n",
      "\n",
      "ftp ftp.cs.wisc.edu\n",
      "cd math-prog/cpo-dataset/machine-learn/WDBC/\n",
      "\n",
      ".. topic:: References\n",
      "\n",
      "   - W.N. Street, W.H. Wolberg and O.L. Mangasarian. Nuclear feature extraction \n",
      "     for breast tumor diagnosis. IS&T/SPIE 1993 International Symposium on \n",
      "     Electronic Imaging: Science and Technology, volume 1905, pages 861-870,\n",
      "     San Jose, CA, 1993.\n",
      "   - O.L. Mangasarian, W.N. Street and W.H. Wolberg. Breast cancer diagnosis and \n",
      "     prognosis via linear programming. Operations Research, 43(4), pages 570-577, \n",
      "     July-August 1995.\n",
      "   - W.H. Wolberg, W.N. Street, and O.L. Mangasarian. Machine learning techniques\n",
      "     to diagnose breast cancer from fine-needle aspirates. Cancer Letters 77 (1994) \n",
      "     163-171.\n"
     ]
    }
   ],
   "source": [
    "\n",
    "from sklearn.linear_model import LogisticRegression\n",
    "\n",
    "\n",
    "\n",
    "\n",
    "print(data.DESCR)"
   ]
  },
  {
   "cell_type": "code",
   "execution_count": 50,
   "metadata": {},
   "outputs": [
    {
     "data": {
      "text/plain": [
       "(array([[  17.99,   10.38,  122.8 , 1001.  ],\n",
       "        [  20.57,   17.77,  132.9 , 1326.  ],\n",
       "        [  13.08,   15.71,   85.63,  520.  ]]),\n",
       " array([0, 0, 1]))"
      ]
     },
     "execution_count": 50,
     "metadata": {},
     "output_type": "execute_result"
    }
   ],
   "source": [
    "(data.data[[0,1,20],0:4], data.target[[0,1,20]])"
   ]
  },
  {
   "cell_type": "code",
   "execution_count": 20,
   "metadata": {},
   "outputs": [
    {
     "ename": "NameError",
     "evalue": "name 'np' is not defined",
     "output_type": "error",
     "traceback": [
      "\u001b[1;31m---------------------------------------------------------------------------\u001b[0m",
      "\u001b[1;31mNameError\u001b[0m                                 Traceback (most recent call last)",
      "\u001b[1;32m<ipython-input-20-b6e5512839bf>\u001b[0m in \u001b[0;36m<module>\u001b[1;34m\u001b[0m\n\u001b[0;32m      1\u001b[0m \u001b[0mlr\u001b[0m \u001b[1;33m=\u001b[0m \u001b[0mLogisticRegression\u001b[0m\u001b[1;33m(\u001b[0m\u001b[0mpenalty\u001b[0m\u001b[1;33m=\u001b[0m\u001b[1;34m'l1'\u001b[0m\u001b[1;33m,\u001b[0m \u001b[0msolver\u001b[0m\u001b[1;33m=\u001b[0m\u001b[1;34m'liblinear'\u001b[0m\u001b[1;33m,\u001b[0m \u001b[0mmax_iter\u001b[0m \u001b[1;33m=\u001b[0m \u001b[1;36m1000\u001b[0m\u001b[1;33m)\u001b[0m\u001b[1;33m.\u001b[0m\u001b[0mfit\u001b[0m\u001b[1;33m(\u001b[0m\u001b[0mdata\u001b[0m\u001b[1;33m.\u001b[0m\u001b[0mdata\u001b[0m\u001b[1;33m,\u001b[0m \u001b[0mdata\u001b[0m\u001b[1;33m.\u001b[0m\u001b[0mtarget\u001b[0m\u001b[1;33m)\u001b[0m\u001b[1;33m\u001b[0m\u001b[1;33m\u001b[0m\u001b[0m\n\u001b[0;32m      2\u001b[0m \u001b[1;33m\u001b[0m\u001b[0m\n\u001b[1;32m----> 3\u001b[1;33m \u001b[0morder\u001b[0m \u001b[1;33m=\u001b[0m \u001b[0mnp\u001b[0m\u001b[1;33m.\u001b[0m\u001b[0mabs\u001b[0m\u001b[1;33m(\u001b[0m\u001b[0mlr\u001b[0m\u001b[1;33m.\u001b[0m\u001b[0mcoef_\u001b[0m\u001b[1;33m)\u001b[0m\u001b[1;33m.\u001b[0m\u001b[0margsort\u001b[0m\u001b[1;33m(\u001b[0m\u001b[1;33m)\u001b[0m\u001b[1;33m\u001b[0m\u001b[1;33m\u001b[0m\u001b[0m\n\u001b[0m\u001b[0;32m      4\u001b[0m \u001b[1;31m#data.feature_names\u001b[0m\u001b[1;33m\u001b[0m\u001b[1;33m\u001b[0m\u001b[1;33m\u001b[0m\u001b[0m\n",
      "\u001b[1;31mNameError\u001b[0m: name 'np' is not defined"
     ]
    }
   ],
   "source": [
    "lr1 = LogisticRegression(penalty='l1', solver='liblinear', max_iter = 1000).fit(data.data, data.target)"
   ]
  },
  {
   "cell_type": "code",
   "execution_count": 34,
   "metadata": {
    "collapsed": true,
    "jupyter": {
     "outputs_hidden": true
    }
   },
   "outputs": [],
   "source": [
    "import numpy as np\n",
    "order = (-np.abs(lr.coef_)).argsort()\n",
    "top2f = order[0,0:2]"
   ]
  },
  {
   "cell_type": "code",
   "execution_count": 37,
   "metadata": {},
   "outputs": [
    {
     "data": {
      "text/plain": [
       "array([18.69375933])"
      ]
     },
     "execution_count": 37,
     "metadata": {},
     "output_type": "execute_result"
    }
   ],
   "source": []
  },
  {
   "cell_type": "markdown",
   "metadata": {
    "slideshow": {
     "slide_type": "fragment"
    }
   },
   "source": [
    "### Mathematical notation\n",
    "\n",
    "The model that is learned in logistic regression has the form:\n",
    "\n",
    "$logit(p) = \\beta x$\n",
    "\n",
    "Note the simple structure of the model: features are multiplied by weights and summed, then, a function is applied to transform the result.\n",
    "\n",
    "Let's look at the logit function more closely:"
   ]
  },
  {
   "cell_type": "code",
   "execution_count": 2,
   "metadata": {
    "collapsed": true,
    "jupyter": {
     "outputs_hidden": true
    },
    "slideshow": {
     "slide_type": "fragment"
    }
   },
   "outputs": [],
   "source": [
    "# Plot logit here"
   ]
  },
  {
   "cell_type": "markdown",
   "metadata": {
    "slideshow": {
     "slide_type": "notes"
    }
   },
   "source": [
    "This function has an unbounded domain (goes all the way fron $-\\infty$ to $+\\infty$) and a range from 0 to 1.\n",
    "\n",
    "Note that it is also *monotonically increasing*, that is, if $a > b$ then $logit(a) > logit(b)$.\n",
    "\n",
    "This property makes it particularly easy to interpret what the weights mean: higher positive weights mean that x correlates with y, weights near 0 mean that x does not affect y much, and hight negative weights "
   ]
  },
  {
   "cell_type": "markdown",
   "metadata": {},
   "source": [
    "### LR as optimization\n",
    "The task of learning a logistic regression can be viewed as an *optimization problem*.\n",
    "\n",
    "**Optimization** is the act? study? (TODO:look up) of finding the maximum or minimum of some function.\n",
    "\n",
    "In LR, we want to find $\\beta$ that minimizes\n",
    "$$ todo formula here $$\n",
    "This is also called the *cross-entropy*.\n",
    "\n",
    "Most machine learning model learning can be viewed as an optimization problem where the task is to find some parameters that minimize a cost function."
   ]
  },
  {
   "cell_type": "markdown",
   "metadata": {},
   "source": []
  },
  {
   "cell_type": "code",
   "execution_count": 1,
   "metadata": {
    "collapsed": true,
    "jupyter": {
     "outputs_hidden": true
    }
   },
   "outputs": [],
   "source": [
    "# 3d plot of logistic regression on 2 variables --\n",
    "# different angles show (a) the shape of the logit function\n",
    "# (b) the linear separator\n",
    "# (c) the x-beta line."
   ]
  },
  {
   "cell_type": "markdown",
   "metadata": {},
   "source": [
    "## Artificial Neural Networks\n",
    "\n",
    "Artificial neural networks have seen much success in recent years.\n",
    "\n",
    "[find examples]\n",
    "\n",
    "### The structure of a neural network\n",
    "\n",
    "[image]\n",
    "\n",
    "### LR as a neural network\n",
    "\n",
    "In logistic regression we have our input vector $x$, the inputs are multiplied by weights $\\beta$, the result is transformed by a nonlinear function (the expit).\n",
    "This can be expressed as a neural network with no hidden layers:\n",
    "\n",
    "[image]\n",
    "\n",
    "### ANN as optimization\n",
    "\n",
    "Like with LR, learning an ANN is an optimization task:\n",
    "\n",
    "* cost function\n",
    "\n",
    "### A second look at examples?\n",
    "\n",
    "### (optional) Network structure tailored to the task\n",
    "\n",
    "* Hierarchical networks\n",
    "* CNN\n",
    "* RNN (very maybe)"
   ]
  },
  {
   "cell_type": "markdown",
   "metadata": {},
   "source": [
    "## Decision trees\n",
    "\n",
    "[image of a decision tree]\n",
    "\n",
    "What is the optimization problem?\n",
    "\n",
    "A greedy optimisation strategy (greedy strategies are not always perfect)\n",
    "\n"
   ]
  },
  {
   "cell_type": "markdown",
   "metadata": {},
   "source": [
    "## ML pitfalls\n",
    "\n",
    "- A. Bissoto, M. Fornaciali, E. Valle, and S. Avila, “(De)Constructing Bias on Skin Lesion Datasets,” presented at the IEEE Conference on Computer Vision and Pattern Recognition Workshops, 2019, p. 9.\n",
    "- S. G. Finlayson, J. D. Bowers, J. Ito, J. L. Zittrain, A. L. Beam, and I. S. Kohane, “Adversarial attacks on medical machine learning,” Science, vol. 363, no. 6433, pp. 1287–1289, Mar. 2019, doi: 10.1126/science.aaw4399.\n",
    "- R. Caruana, Y. Lou, J. Gehrke, P. Koch, M. Sturm, and N. Elhadad, “Intelligible Models for HealthCare: Predicting Pneumonia Risk and Hospital 30-day Readmission,” in Proceedings of the 21th ACM SIGKDD International Conference on Knowledge Discovery and Data Mining - KDD ’15, Sydney, NSW, Australia, 2015, pp. 1721–1730, doi: 10.1145/2783258.2788613.\n"
   ]
  },
  {
   "cell_type": "code",
   "execution_count": null,
   "metadata": {
    "collapsed": true,
    "jupyter": {
     "outputs_hidden": true
    }
   },
   "outputs": [],
   "source": []
  }
 ],
 "metadata": {
  "celltoolbar": "Slideshow",
  "kernelspec": {
   "display_name": "Python 3",
   "language": "python",
   "name": "python3"
  },
  "language_info": {
   "codemirror_mode": {
    "name": "ipython",
    "version": 3
   },
   "file_extension": ".py",
   "mimetype": "text/x-python",
   "name": "python",
   "nbconvert_exporter": "python",
   "pygments_lexer": "ipython3",
   "version": "3.7.6"
  }
 },
 "nbformat": 4,
 "nbformat_minor": 4
}
