{
 "cells": [
  {
   "cell_type": "markdown",
   "metadata": {
    "slideshow": {
     "slide_type": "slide"
    }
   },
   "source": [
    "# Machine Learning (part 2)\n",
    "\n",
    "**BMI 773 Clinical Research Informatics**\n",
    "\n",
    "*Yuriy Sverchkov*\n",
    "\n",
    "*March 25, 2020*\n",
    "\n",
    "[![xkcd: Machine Learning](images/xkcd_machine_learning.png)](https://xkcd.com/1838/)"
   ]
  },
  {
   "cell_type": "markdown",
   "metadata": {
    "slideshow": {
     "slide_type": "subslide"
    }
   },
   "source": [
    "## Lecture goals\n",
    "\n",
    "*stretch goals in italics*\n",
    "\n",
    "* Understand concepts\n",
    "  * perceptrons\n",
    "  * hidden units\n",
    "  * multilayer neural networks\n",
    "  * gradient descent\n",
    "  * backpropagation\n",
    "  * activation functions\n",
    "    * sigmoid, hyperbolic tangent, ReLU\n",
    "  * loss functions\n",
    "    * squared error, cross entropy\n",
    "  * logistic regression as a neural network\n",
    "  * input encodings\n",
    "  * output encodings\n",
    "  * *autoencodings*\n",
    "  * *word embeddings*\n",
    "  * *recurrent neural networks*\n",
    "  * *convolutional networks*\n",
    "  * *decision trees*\n",
    "* Pitfalls of machine learning\n",
    "  "
   ]
  },
  {
   "cell_type": "markdown",
   "metadata": {
    "slideshow": {
     "slide_type": "slide"
    }
   },
   "source": [
    "## Artificial Neural Networks"
   ]
  },
  {
   "cell_type": "markdown",
   "metadata": {
    "slideshow": {
     "slide_type": "fragment"
    }
   },
   "source": [
    "Artificial neural networks have seen much success in recent years.\n",
    "\n",
    "[find examples]"
   ]
  },
  {
   "cell_type": "markdown",
   "metadata": {
    "slideshow": {
     "slide_type": "slide"
    }
   },
   "source": [
    "### Biological neurons\n",
    "\n",
    "<table>\n",
    "    <tr>\n",
    "        <td><img src=\"images/neuron.png\"></td>\n",
    "        <td><img src=\"images/all-or-none_law_en.svg\" width=300></td>\n",
    "    </tr>\n",
    "</table>\n",
    "\n",
    "* Receive inputs from other neurons via dendrites\n",
    "* Activate at a certain stimulus threshold\n",
    "* Signal to other neurons via terminal branches"
   ]
  },
  {
   "cell_type": "markdown",
   "metadata": {
    "slideshow": {
     "slide_type": "subslide"
    }
   },
   "source": [
    "### \"Neurons\" in an artificial neural network\n",
    "\n",
    "![artificial neuron](images/artificial-neuron.svg)"
   ]
  },
  {
   "cell_type": "markdown",
   "metadata": {},
   "source": [
    "\n",
    "\n",
    "### LR as a neural network\n",
    "\n",
    "In logistic regression we have our input vector $x$, the inputs are multiplied by weights $\\beta$, the result is transformed by a nonlinear function (the expit).\n",
    "This can be expressed as a neural network with no hidden layers:\n",
    "\n",
    "[image]\n",
    "\n",
    "### ANN as optimization\n",
    "\n",
    "Like with LR, learning an ANN is an optimization task:\n",
    "\n",
    "* cost function\n",
    "\n",
    "### A second look at examples?\n",
    "\n",
    "### (optional) Network architecture tailored to the task\n",
    "\n",
    "* Hierarchical networks\n",
    "* CNN\n",
    "* RNN (very maybe)"
   ]
  },
  {
   "cell_type": "code",
   "execution_count": null,
   "metadata": {},
   "outputs": [],
   "source": []
  },
  {
   "cell_type": "markdown",
   "metadata": {},
   "source": [
    "## Decision trees\n",
    "\n",
    "[image of a decision tree]\n",
    "\n",
    "What is the optimization problem?\n",
    "\n",
    "A greedy optimisation strategy (greedy strategies are not always perfect)\n",
    "\n"
   ]
  },
  {
   "cell_type": "markdown",
   "metadata": {},
   "source": [
    "## ML pitfalls\n",
    "\n",
    "- A. Bissoto, M. Fornaciali, E. Valle, and S. Avila, “(De)Constructing Bias on Skin Lesion Datasets,” presented at the IEEE Conference on Computer Vision and Pattern Recognition Workshops, 2019, p. 9.\n",
    "- S. G. Finlayson, J. D. Bowers, J. Ito, J. L. Zittrain, A. L. Beam, and I. S. Kohane, “Adversarial attacks on medical machine learning,” Science, vol. 363, no. 6433, pp. 1287–1289, Mar. 2019, doi: 10.1126/science.aaw4399.\n",
    "- R. Caruana, Y. Lou, J. Gehrke, P. Koch, M. Sturm, and N. Elhadad, “Intelligible Models for HealthCare: Predicting Pneumonia Risk and Hospital 30-day Readmission,” in Proceedings of the 21th ACM SIGKDD International Conference on Knowledge Discovery and Data Mining - KDD ’15, Sydney, NSW, Australia, 2015, pp. 1721–1730, doi: 10.1145/2783258.2788613.\n"
   ]
  },
  {
   "cell_type": "markdown",
   "metadata": {
    "slideshow": {
     "slide_type": "notes"
    }
   },
   "source": [
    "## Image credits in order of appearance\n",
    "\n",
    "* [XKCD](https://xkcd.com/1838/)\n",
    "* [Wikimedia Commons](https://commons.wikimedia.org/wiki/File:All-or-none_law_en.svg)\n",
    "* [Wikimedia Commons (Prof. Loc Vu-Quoc), CC BY-SA 4.0](https://commons.wikimedia.org/w/index.php?curid=72816083)\n"
   ]
  },
  {
   "cell_type": "code",
   "execution_count": null,
   "metadata": {},
   "outputs": [],
   "source": []
  }
 ],
 "metadata": {
  "kernelspec": {
   "display_name": "Python 3",
   "language": "python",
   "name": "python3"
  },
  "language_info": {
   "codemirror_mode": {
    "name": "ipython",
    "version": 3
   },
   "file_extension": ".py",
   "mimetype": "text/x-python",
   "name": "python",
   "nbconvert_exporter": "python",
   "pygments_lexer": "ipython3",
   "version": "3.7.6"
  }
 },
 "nbformat": 4,
 "nbformat_minor": 4
}
